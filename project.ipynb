{
 "cells": [
  {
   "cell_type": "markdown",
   "metadata": {},
   "source": [
    "# UCU 2024 - Proyecto 1\n",
    "Web Scraping - Proyecto para la asignatura Programación para Análisis de Datos"
   ]
  },
  {
   "cell_type": "code",
   "execution_count": null,
   "metadata": {},
   "outputs": [],
   "source": [
   "data" : [
 [
    {
        "fecha": "01-01-2024",
        "usd": 42208.202176186474,
        "eur": 38240.20908960317
    },
    {
        "fecha": "01-07-2024",
        "usd": 62734.39383945474,
        "eur": 58430.814422068135
    }
]

 "metadata": {
  "kernelspec": {
   "display_name": "Python 3",
   "language": "python",
   "name": "python3"
  },
  "language_info": {
   "name": "python",
   "version": "3.12.1"
  }
 },
 "nbformat": 4,
 "nbformat_minor": 2
}
